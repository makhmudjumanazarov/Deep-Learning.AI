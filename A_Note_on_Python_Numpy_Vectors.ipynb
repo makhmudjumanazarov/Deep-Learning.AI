{
  "nbformat": 4,
  "nbformat_minor": 0,
  "metadata": {
    "colab": {
      "provenance": [],
      "mount_file_id": "1tazpCbKWaNjoxbO_LJtOaHVznB5_1k5T",
      "authorship_tag": "ABX9TyOiabKKHvbwfCl71WeKp0pO",
      "include_colab_link": true
    },
    "kernelspec": {
      "name": "python3",
      "display_name": "Python 3"
    },
    "language_info": {
      "name": "python"
    }
  },
  "cells": [
    {
      "cell_type": "markdown",
      "metadata": {
        "id": "view-in-github",
        "colab_type": "text"
      },
      "source": [
        "<a href=\"https://colab.research.google.com/github/makhmudjumanazarov/Deep-Learning.AI/blob/main/A_Note_on_Python_Numpy_Vectors.ipynb\" target=\"_parent\"><img src=\"https://colab.research.google.com/assets/colab-badge.svg\" alt=\"Open In Colab\"/></a>"
      ]
    },
    {
      "cell_type": "code",
      "execution_count": 1,
      "metadata": {
        "id": "x4c5qLYc6SEv"
      },
      "outputs": [],
      "source": [
        "import numpy as np "
      ]
    },
    {
      "cell_type": "code",
      "source": [
        "a = np.random.randn(5)"
      ],
      "metadata": {
        "id": "dZCOWEvD6Zic"
      },
      "execution_count": 3,
      "outputs": []
    },
    {
      "cell_type": "code",
      "source": [
        "print(a)"
      ],
      "metadata": {
        "colab": {
          "base_uri": "https://localhost:8080/"
        },
        "id": "c9MPBuZz6hn2",
        "outputId": "19f526e4-bd05-4fd1-eb04-79f64373bab1"
      },
      "execution_count": 4,
      "outputs": [
        {
          "output_type": "stream",
          "name": "stdout",
          "text": [
            "[ 0.58415765 -0.89106502  0.00899703 -0.79168137  0.55216957]\n"
          ]
        }
      ]
    },
    {
      "cell_type": "code",
      "source": [
        "print(a.shape)  "
      ],
      "metadata": {
        "colab": {
          "base_uri": "https://localhost:8080/"
        },
        "id": "QngDoemV6jOx",
        "outputId": "581055dd-f592-4c11-e749-93599e8f4b8e"
      },
      "execution_count": 6,
      "outputs": [
        {
          "output_type": "stream",
          "name": "stdout",
          "text": [
            "(5,)\n"
          ]
        }
      ]
    },
    {
      "cell_type": "code",
      "source": [
        "print(a.T)"
      ],
      "metadata": {
        "colab": {
          "base_uri": "https://localhost:8080/"
        },
        "id": "qvTge4Vp6lXV",
        "outputId": "2396a6db-a249-4ae9-f4c3-41c403c218d7"
      },
      "execution_count": 7,
      "outputs": [
        {
          "output_type": "stream",
          "name": "stdout",
          "text": [
            "[ 0.58415765 -0.89106502  0.00899703 -0.79168137  0.55216957]\n"
          ]
        }
      ]
    },
    {
      "cell_type": "code",
      "source": [
        "print(np.dot(a, a.T))"
      ],
      "metadata": {
        "colab": {
          "base_uri": "https://localhost:8080/"
        },
        "id": "meVnO9lW6q8s",
        "outputId": "df950348-c4cc-4ca9-a4ad-4702cac29e9f"
      },
      "execution_count": 8,
      "outputs": [
        {
          "output_type": "stream",
          "name": "stdout",
          "text": [
            "2.066968619876278\n"
          ]
        }
      ]
    },
    {
      "cell_type": "code",
      "source": [
        "a = np.random.randn(5,1)\n",
        "print(a)\n"
      ],
      "metadata": {
        "colab": {
          "base_uri": "https://localhost:8080/"
        },
        "id": "uvqgE9ZM6wz4",
        "outputId": "13e2b024-1ae5-4af6-bc5c-4044acb41c6b"
      },
      "execution_count": 10,
      "outputs": [
        {
          "output_type": "stream",
          "name": "stdout",
          "text": [
            "[[-1.2444371 ]\n",
            " [ 0.81173106]\n",
            " [-1.4982037 ]\n",
            " [-0.41442637]\n",
            " [ 0.45906251]]\n"
          ]
        }
      ]
    },
    {
      "cell_type": "code",
      "source": [
        "print(a.T)"
      ],
      "metadata": {
        "colab": {
          "base_uri": "https://localhost:8080/"
        },
        "id": "W6kWress613a",
        "outputId": "8d5ddc30-7636-4a86-b564-1e34dcf40355"
      },
      "execution_count": 11,
      "outputs": [
        {
          "output_type": "stream",
          "name": "stdout",
          "text": [
            "[[-1.2444371   0.81173106 -1.4982037  -0.41442637  0.45906251]]\n"
          ]
        }
      ]
    },
    {
      "cell_type": "code",
      "source": [
        "print(np.dot(a, a.T))"
      ],
      "metadata": {
        "colab": {
          "base_uri": "https://localhost:8080/"
        },
        "id": "bSfgWmO367Tj",
        "outputId": "661b54e8-c665-4742-a086-252a134a28e3"
      },
      "execution_count": 12,
      "outputs": [
        {
          "output_type": "stream",
          "name": "stdout",
          "text": [
            "[[ 1.54862369 -1.01014824  1.86442027  0.51572755 -0.57127442]\n",
            " [-1.01014824  0.65890731 -1.21613847 -0.33640275  0.3726353 ]\n",
            " [ 1.86442027 -1.21613847  2.24461433  0.62089512 -0.68776915]\n",
            " [ 0.51572755 -0.33640275  0.62089512  0.17174922 -0.19024761]\n",
            " [-0.57127442  0.3726353  -0.68776915 -0.19024761  0.21073839]]\n"
          ]
        }
      ]
    },
    {
      "cell_type": "code",
      "source": [],
      "metadata": {
        "id": "0lQ7LLLa6_oM"
      },
      "execution_count": null,
      "outputs": []
    }
  ]
}