{
  "nbformat": 4,
  "nbformat_minor": 0,
  "metadata": {
    "colab": {
      "provenance": [],
      "mount_file_id": "1fvUbFPofqCa9hhdTzH9mlQXTInHdraDP",
      "authorship_tag": "ABX9TyOFZvcAFvuZf5+Lf00923MM",
      "include_colab_link": true
    },
    "kernelspec": {
      "name": "python3",
      "display_name": "Python 3"
    },
    "language_info": {
      "name": "python"
    }
  },
  "cells": [
    {
      "cell_type": "markdown",
      "metadata": {
        "id": "view-in-github",
        "colab_type": "text"
      },
      "source": [
        "<a href=\"https://colab.research.google.com/github/makhmudjumanazarov/Deep-Learning.AI/blob/main/Vectorization.ipynb\" target=\"_parent\"><img src=\"https://colab.research.google.com/assets/colab-badge.svg\" alt=\"Open In Colab\"/></a>"
      ]
    },
    {
      "cell_type": "code",
      "execution_count": 3,
      "metadata": {
        "id": "qvoeEkVDcjOn",
        "colab": {
          "base_uri": "https://localhost:8080/"
        },
        "outputId": "bb5bb6fe-8273-445c-e028-a64768b9bfc4"
      },
      "outputs": [
        {
          "output_type": "stream",
          "name": "stdout",
          "text": [
            "[1 2 3 4]\n"
          ]
        }
      ],
      "source": [
        "import numpy as np \n",
        "a = np.array([1, 2, 3, 4])\n",
        "print(a)"
      ]
    },
    {
      "cell_type": "code",
      "source": [
        "import time\n",
        "\n",
        "a = np.random.rand(1000000)\n",
        "b = np.random.rand(1000000)\n",
        "\n",
        "tic = time.time()\n",
        "c = np.dot(a, b)\n",
        "toc = time.time()\n",
        "\n",
        "print(c)\n",
        "print('Vectorized version:' + str(1000*(toc-tic)) + \"ms\")\n",
        "\n",
        "c = 0\n",
        "tic = time.time()\n",
        "for i in range(1000000):\n",
        "  c += a[i] * b[i]\n",
        "toc = time.time()\n",
        "\n",
        "print(c)\n",
        "print('For loop:' + str(1000*(toc-tic)) + \"ms\")     "
      ],
      "metadata": {
        "id": "to4W7iBRcyr-",
        "colab": {
          "base_uri": "https://localhost:8080/"
        },
        "outputId": "5f60a884-f366-41fd-bf8d-00281bfde91c"
      },
      "execution_count": 6,
      "outputs": [
        {
          "output_type": "stream",
          "name": "stdout",
          "text": [
            "249650.5428807579\n",
            "Vectorized version:1.5003681182861328ms\n",
            "249650.54288075722\n",
            "For loop:487.1826171875ms\n"
          ]
        }
      ]
    },
    {
      "cell_type": "code",
      "source": [],
      "metadata": {
        "id": "O7Wq33mpgcEN"
      },
      "execution_count": null,
      "outputs": []
    }
  ]
}